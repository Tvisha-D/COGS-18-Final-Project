{
 "cells": [
  {
   "cell_type": "markdown",
   "metadata": {},
   "source": [
    "## Final Project : Mood-based Music Recommender ###"
   ]
  },
  {
   "cell_type": "markdown",
   "metadata": {},
   "source": [
    "### Mood-based Music Recommender (K-Pop ver.)\n",
    "\n",
    "My Daily Mixes on Spotify really intrigue me. The manner in which they are custom made to my listening habits and split into different ones while following a pattern made me probe into the concepts of playlist making and recommendation. Feeling that this area would be interesting to explore through code, I decided to build a simple mood-based music recommender. This recommender is based on K-Pop (Korean Pop) music as my trial user, a.k.a my sister, is a big fan of the genre and it was great fun to have her play along with my code as I was writing it ¯\\\\..(ツ)../¯\n",
    "\n",
    "Fundamentally, this recommender takes in user mood and basic music choice and presents a recommendation that matches the specified preferences. Then, if the user is interested, it also provides a recommendation to a general K-Pop playlist either on Spotify or YouTube, again on the basis of user preference. \n",
    "\n",
    "#### Details\n",
    "I generated a dictionary called music_sampler which currently has 24 keys. These 24 keys are combinations of the 6 primary moods (i.e. happy, calm, sad, frustrated, romantic, and exploratory) and 4 basic/arbitrary music types (i.e. chill, intense, groovy, and uplifting). Thus, each key is one mood-music type combination (ex: Happy_Intense). In this dictionary, each key has 3 associated values, meaning that each category has 3 possible recommendations (6 x 4 x 3 = 72 recommendations in total).This has been designed to enable the following functionalities: \n",
    "- a) Inbuilt randomness: Given a particular category, the recommender is built to present one of the 3 available options under it. This has been done to ensure that users re-taking the recommender with the same preferences would have a chance to enjoy more music rather than being limited to one particular song. \n",
    "- b) Surprise Me!: To make things fun, I wrote code to facilitate a 'Surprise Me!' option. If the user indicates this option under the music type preference, this uses information regaring their primary mood to present them with a recommendation from a radom music category under the given mood. For instance, a user input of [Calm, Surprise Me!] would present a recommendation from 1 of the values of the 4 'Calm' subcategories (i.e 1 out of 12 options). \n",
    "- The randomness is achieved through the use of the choice method from the random module.\n",
    "\n",
    "The music_sampler dictionary and the questions designed to elicit user responses regarding mood and playlist interest are stored in a script and need to be imported (scripts/my_script.py).\n",
    "\n",
    "The functions also need to be imported from a module (my_module/functions.py). \n",
    "\n",
    "The mood_finder function uses the input feature to collect information regarding the user's mood and music choice based on the questions posed through the mood_insight list. An for-loop iterates over the questions in mood_insight list, and the responses are appended into a list - mood_info which is designed to be in a [mood, music_type] format (ex: ['Chill', 'Groovy']). Then, the music_recommender function uses mood_info to make the respective recommendation. A for-loop iterates over the keys of the music_sampler dictionary and a conditional statement searches for the category label that contains the same information as that held in mood_info. A recommendation is made using the choice method from the random module. Finally, the playlist_interest function suggests a playlist based on interest. Conditional statements are used here to determine interest and return the appropriate outputs.\n",
    "\n",
    "\n",
    "\n",
    "That's basically it :)\n",
    "\n",
    "Hope you have fun using this recommender!\n",
    "\n",
    "\n",
    "\n",
    "#### Disclaimer!\n",
    "The collection in the sampler has been put together based on generic playlist categorization and my personal exposure to the music. This is limited sampler and is by no means completely representative of the genre as a whole. It aims to act as somewhat like a basic introduction to the genre based on your mood. If you find yourself liking this, you must check out the work of the recommended artists and others who keep making wonderful music :)"
   ]
  },
  {
   "cell_type": "markdown",
   "metadata": {},
   "source": [
    "## Project Code ###"
   ]
  },
  {
   "cell_type": "code",
   "execution_count": null,
   "metadata": {},
   "outputs": [],
   "source": [
    "from my_module.functions import mood_finder, music_recommender, playlist_interest"
   ]
  },
  {
   "cell_type": "code",
   "execution_count": null,
   "metadata": {},
   "outputs": [],
   "source": [
    "import scripts.my_script as prompt\n",
    "!python scripts/my_script.py"
   ]
  },
  {
   "cell_type": "code",
   "execution_count": null,
   "metadata": {},
   "outputs": [],
   "source": [
    "mood_info = mood_finder(prompt.mood_insight)"
   ]
  },
  {
   "cell_type": "code",
   "execution_count": null,
   "metadata": {},
   "outputs": [],
   "source": [
    "music_recommender(mood_info, prompt.music_sampler)"
   ]
  },
  {
   "cell_type": "code",
   "execution_count": null,
   "metadata": {},
   "outputs": [],
   "source": [
    "playlist_interest(prompt.playlist_insight, prompt.playlist_choice)"
   ]
  },
  {
   "cell_type": "code",
   "execution_count": null,
   "metadata": {},
   "outputs": [],
   "source": [
    "!pytest my_module/test_functions.py"
   ]
  },
  {
   "cell_type": "markdown",
   "metadata": {},
   "source": [
    "#### Extra Credit (*optional*)\n",
    "\n",
    "1. This was my first time working with Python.\n",
    "2. Idea - Initially, I tried executing the concept by intergrating the workings of a YouTube API. However, being an amateur and running low on time, I decided to take a more basic approach for now. Over the summer break, I intend to bring in the API step. \n",
    "\n",
    "    Exploration - As my project is interactive, I had to make several decisions regarding the usage of the input function, and about data formats for storing information and later retrieving information. Initially, I explored the usage of the Pandas DataFrames for the purpose of storing the music sampler, but when I had trouble writing an effective test function, I kept tweaking my code to find alternatives that would achieve the same purpose through simpler code. During this exploration, I learned about the choice method of the random module that is usable on a dictionary, which also allowed me to write a more efficient test function. I learned a lot about the DataFrame and dictionary objects and their associated functionality. Putting it all together, I also realised the importance of efficient code tests and the necessity of using asserts in functions to help users navigate through errors. \n",
    "    \n",
    "\n",
    "\n",
    "PS: Thank you so much for the wonderful quarter! I never knew I'd enjoy learning Python as much I did and can't wait to keep learning and working more with it :)"
   ]
  }
 ],
 "metadata": {
  "kernelspec": {
   "display_name": "Python 3",
   "language": "python",
   "name": "python3"
  },
  "language_info": {
   "codemirror_mode": {
    "name": "ipython",
    "version": 3
   },
   "file_extension": ".py",
   "mimetype": "text/x-python",
   "name": "python",
   "nbconvert_exporter": "python",
   "pygments_lexer": "ipython3",
   "version": "3.8.6"
  }
 },
 "nbformat": 4,
 "nbformat_minor": 2
}
